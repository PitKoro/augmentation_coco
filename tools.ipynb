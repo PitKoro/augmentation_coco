{
 "cells": [
  {
   "cell_type": "code",
   "execution_count": 1,
   "metadata": {},
   "outputs": [],
   "source": [
    "import os\n",
    "from glob import glob\n",
    "import json\n",
    "import shutil"
   ]
  },
  {
   "cell_type": "markdown",
   "metadata": {},
   "source": [
    "# Копирование изображений по аннотациям"
   ]
  },
  {
   "cell_type": "code",
   "execution_count": 8,
   "metadata": {},
   "outputs": [],
   "source": [
    "import os, json, shutil\n",
    "\n",
    "ds_type = 'val'\n",
    "ann = json.load(open(f'{ds_type}/{ds_type}.json'))\n",
    "\n",
    "ann_file_names = set([os.path.basename(name['file_name']) for name in ann['images']])\n",
    "for ann_img_name in ann_file_names:\n",
    "    shutil.copy(f'images/{ann_img_name}', f\"{ds_type}/images/{ann_img_name}\")"
   ]
  },
  {
   "cell_type": "markdown",
   "metadata": {},
   "source": [
    "# Просмотр ds в COCO (fiftyOne)"
   ]
  },
  {
   "cell_type": "code",
   "execution_count": null,
   "metadata": {},
   "outputs": [],
   "source": [
    "import os\n",
    "\n",
    "import fiftyone as fo\n",
    "\n",
    "# Load COCO formatted dataset\n",
    "coco_dataset = fo.Dataset.from_dir(\n",
    "    dataset_type=fo.types.COCODetectionDataset,\n",
    "    data_path='datasets/water/test/aug_images',\n",
    "    labels_path=\"datasets/water/test/test_aug.json\",\n",
    "    include_id=True,\n",
    ")\n",
    "\n",
    "# Verify that the class list for our dataset was imported\n",
    "print(coco_dataset.default_classes)  # ['airplane', 'apple', ...]\n",
    "\n",
    "print(coco_dataset)\n",
    "\n",
    "session = fo.launch_app(coco_dataset)"
   ]
  },
  {
   "cell_type": "markdown",
   "metadata": {},
   "source": [
    "# webp to jpg"
   ]
  },
  {
   "cell_type": "code",
   "execution_count": 18,
   "metadata": {},
   "outputs": [
    {
     "name": "stdout",
     "output_type": "stream",
     "text": [
      "/home/radmin/Desktop/datasets/corrosion/images/87bcb499-354.oil-and-gas-pipelelectric-gas-welding-butt-weld-of-welding-of-a-p_KRzQZam\n",
      "/home/radmin/Desktop/datasets/corrosion/images/2b99e164-137.rusty-pipes-closeup-1024x683.jpg\n",
      "/home/radmin/Desktop/datasets/corrosion/images/1c5c78b7-120.wr-960\n",
      "/home/radmin/Desktop/datasets/corrosion/images/b70b6c75-87.galvanic-corrosion.ashx\n",
      "/home/radmin/Desktop/datasets/corrosion/images/8dca08fb-75.66578094-tubos-de-acero-para-el-suministro-de-agua-a-la-corrosic3b_4hKHfcV\n",
      "/home/radmin/Desktop/datasets/corrosion/images/8bac1038-rust-and-damage-to-the-car-body-metal-corrosion-paint-decay-holes-in-_SFTSfT8\n",
      "/home/radmin/Desktop/datasets/corrosion/images/af38d70f-297.old-oil-pipe-line-corrosion-metal-lying-in-side-pipe-the-asphalt__dekI8o8\n",
      "/home/radmin/Desktop/datasets/corrosion/images/feaf6f90-56.wr-960\n",
      "/home/radmin/Desktop/datasets/corrosion/images/36f42ba5-239.3503836f6bd0478995bf4a49dfffd47e\n",
      "/home/radmin/Desktop/datasets/corrosion/images/7b631f99-251.corrosion-monitoring-steel\n",
      "/home/radmin/Desktop/datasets/corrosion/images/6914faed-70.66603568-tuyaux-en-acier-pour-approvisionnement-en-eau-par-corrosion-.jpg\n",
      "/home/radmin/Desktop/datasets/corrosion/images/7277b6e2-409.closeup-of-rusty-iron-ship-walls-with-grey-paint-on-it_181624-7061.jpg\n",
      "/home/radmin/Desktop/datasets/corrosion/images/9bce8bdf-89.localized-crevice-corrosion.ashx\n"
     ]
    }
   ],
   "source": [
    "import os\n",
    "from glob import glob\n",
    "\n",
    "from PIL import Image\n",
    "import imageio.v2 as imageio\n",
    "\n",
    "img_paths = glob('/home/radmin/Desktop/datasets/corrosion/images/*')\n",
    "for img_path in img_paths:\n",
    "    filename, file_extension = os.path.splitext(img_path)\n",
    "    if file_extension == '.webp':\n",
    "        img = Image.open(img_path).convert('RGB')\n",
    "        img.save(filename+'.jpg', 'jpeg')\n",
    "        print(filename)\n",
    "        os.remove(img_path)"
   ]
  },
  {
   "cell_type": "code",
   "execution_count": 15,
   "metadata": {},
   "outputs": [
    {
     "name": "stdout",
     "output_type": "stream",
     "text": [
      "ff8f6ef8-346.depositphotos_234110916-stock-photo-odessa-ukraine-circa-2017-repair.jpg\n"
     ]
    }
   ],
   "source": [
    "import os\n",
    "from glob import glob\n",
    "import json\n",
    "\n",
    "from PIL import Image\n",
    "import imageio.v2 as imageio\n",
    "\n",
    "img_paths = glob('/home/radmin/Desktop/datasets/corrosion/images/*')\n",
    "result_ann = json.load(open('/home/radmin/Desktop/datasets/corrosion/result.json'))\n",
    "\n",
    "count = 0\n",
    "for img_path in img_paths:\n",
    "    filename, file_extension = os.path.splitext(img_path)\n",
    "    \n",
    "    try:\n",
    "        count += 1\n",
    "        imageio.imread(img_path)\n",
    "    except:\n",
    "        for result_ann_image in result_ann['images']:\n",
    "            file_name = result_ann_image['file_name']\n",
    "            print(file_name, filename)\n",
    "            break\n",
    "        #     if result_ann_copy_image[file]\n",
    "        # # img = Image.open(img_path).convert('RGB')\n",
    "        # # img.save(filename+'.jpg', 'jpeg')\n",
    "        # print(filename)\n",
    "        # # os.remove(img_path)\n",
    "        break\n",
    "        "
   ]
  },
  {
   "cell_type": "code",
   "execution_count": 19,
   "metadata": {},
   "outputs": [
    {
     "data": {
      "text/plain": [
       "1137"
      ]
     },
     "execution_count": 19,
     "metadata": {},
     "output_type": "execute_result"
    }
   ],
   "source": [
    "len(glob('/home/radmin/Desktop/datasets/corrosion/images/*'))\n",
    "# len(img_paths)"
   ]
  },
  {
   "cell_type": "code",
   "execution_count": 22,
   "metadata": {},
   "outputs": [
    {
     "data": {
      "text/plain": [
       "0"
      ]
     },
     "execution_count": 22,
     "metadata": {},
     "output_type": "execute_result"
    }
   ],
   "source": [
    "import imageio.v2 as imageio\n",
    "from glob import glob\n",
    "\n",
    "ds_type = 'test'\n",
    "path_to_annotation = f'{ds_type}/{ds_type}.json'\n",
    "path_to_images = f'{ds_type}/images'\n",
    "count = 0\n",
    "for img_path in glob(f\"/home/radmin/Desktop/datasets/corrosion/images/*\"):\n",
    "    try:\n",
    "        imageio.imread(img_path)\n",
    "    except:\n",
    "        os.remove(img_path)\n",
    "        print(img_path)\n",
    "        count += 1\n",
    "        \n",
    "count"
   ]
  },
  {
   "cell_type": "markdown",
   "metadata": {},
   "source": [
    "# Аугментация"
   ]
  },
  {
   "cell_type": "code",
   "execution_count": 3,
   "metadata": {},
   "outputs": [],
   "source": [
    "from glob import glob\n",
    "import os\n",
    "import json\n",
    "\n",
    "import numpy as np\n",
    "import matplotlib.pyplot as plt\n",
    "from tqdm import tqdm\n",
    "\n",
    "import imageio.v2 as imageio\n",
    "import imgaug as ia\n",
    "from imgaug.augmentables.bbs import BoundingBox, BoundingBoxesOnImage\n",
    "from imgaug import augmenters as iaa \n",
    "%matplotlib inline\n",
    "ia.seed(1)"
   ]
  },
  {
   "cell_type": "code",
   "execution_count": 4,
   "metadata": {},
   "outputs": [],
   "source": [
    "seq = iaa.Sequential(\n",
    "    [\n",
    "        iaa.Sometimes(\n",
    "            0.5,\n",
    "            iaa.Affine(scale=(1, 1.5))\n",
    "        ),\n",
    "        iaa.Sometimes(\n",
    "            0.3,\n",
    "            iaa.Affine(rotate=(-45, 45), mode='edge')\n",
    "        ),\n",
    "        iaa.OneOf([\n",
    "            iaa.SigmoidContrast(gain=10, cutoff=0.5),\n",
    "            iaa.Snowflakes(flake_size=(0.1, 0.3), speed=(0.01, 0.04)),\n",
    "            iaa.Fliplr(p=1.0),\n",
    "            iaa.imgcorruptlike.Spatter(severity=2),\n",
    "            iaa.Flipud(p=1.0),\n",
    "            iaa.SigmoidContrast(cutoff=0.5),\n",
    "            iaa.AllChannelsCLAHE(clip_limit=5),\n",
    "            iaa.imgcorruptlike.Snow(severity=2),\n",
    "            iaa.imgcorruptlike.ZoomBlur(severity=2),\n",
    "            iaa.MaxPooling(1),\n",
    "            iaa.ScaleX((1.5, 2))\n",
    "        ])\n",
    "    ],\n",
    "    random_order=True\n",
    ") # apply augmenters in random order"
   ]
  },
  {
   "cell_type": "code",
   "execution_count": 7,
   "metadata": {},
   "outputs": [
    {
     "name": "stderr",
     "output_type": "stream",
     "text": [
      "100%|██████████| 916/916 [45:54<00:00,  3.01s/it]  \n"
     ]
    }
   ],
   "source": [
    "#TODO: распараллелить с помощью parallelbar.progress_map (https://stackoverflow.com/questions/66372005/showing-tqdm-progress-bar-while-using-python-multiprocessing)\n",
    "ds_type = 'train'\n",
    "path_to_annotation = f'corrosion/{ds_type}/{ds_type}.json'\n",
    "path_to_images = f'corrosion/{ds_type}/images'\n",
    "\n",
    "for img_path in glob(f\"{path_to_images}/*\"):\n",
    "    imageio.imread(img_path)\n",
    "\n",
    "ann_json = json.load(open(path_to_annotation))\n",
    "\n",
    "aug_ann = dict()\n",
    "aug_ann['categories'] = ann_json['categories']\n",
    "aug_ann['info'] = ann_json['info']\n",
    "aug_ann['images'] = []\n",
    "aug_ann['annotations'] = []\n",
    "\n",
    "NUMBER_OF_AUG_IMGS = 10\n",
    "\n",
    "img_id = 0\n",
    "ann_id = 0\n",
    "with tqdm(total=len(ann_json['images'])) as progress:\n",
    "    for ann_json_image in ann_json['images']:\n",
    "        images = np.array(\n",
    "            [imageio.imread(f\"{path_to_images}/{ann_json_image['file_name']}\", pilmode='RGB') for _ in range(NUMBER_OF_AUG_IMGS)],\n",
    "            dtype=np.uint8\n",
    "        )\n",
    "        \n",
    "        bbs = []\n",
    "        for ann_json_ann in ann_json['annotations']:\n",
    "            if ann_json_ann['image_id'] == ann_json_image['id']:\n",
    "                bbox = BoundingBox(\n",
    "                    x1=ann_json_ann['bbox'][0],\n",
    "                    x2=ann_json_ann['bbox'][0] + ann_json_ann['bbox'][2],\n",
    "                    y1=ann_json_ann['bbox'][1],\n",
    "                    y2=ann_json_ann['bbox'][1] + ann_json_ann['bbox'][3],\n",
    "                    label=ann_json_ann['category_id']\n",
    "                )\n",
    "                \n",
    "                bbs.append(bbox)\n",
    "        \n",
    "        bbs = BoundingBoxesOnImage(bbs, shape=images[0].shape)\n",
    "        bboxes = [bbs for _ in range(NUMBER_OF_AUG_IMGS)]\n",
    "        \n",
    "        images_aug, bboxes_aug = seq(images=images, bounding_boxes=bboxes)\n",
    "        \n",
    "        bboxes_aug_without_leaving_image = []\n",
    "        for el in bboxes_aug:\n",
    "            bboxes_aug_without_leaving_image.append(el.clip_out_of_image())\n",
    "        \n",
    "        for img_aug, bbox_aug in zip(images_aug, bboxes_aug_without_leaving_image):\n",
    "\n",
    "            name, ex = os.path.splitext(ann_json_image['file_name'])\n",
    "            file_name = f\"{name}_{img_id}{ex}\"\n",
    "\n",
    "            imageio.imsave(f\"corrosion/{ds_type}/aug_images/{file_name}\", img_aug) \n",
    "            h, w, _ = img_aug.shape\n",
    "\n",
    "            aug_ann['images'].append(\n",
    "                {\n",
    "                    \"width\": w,\n",
    "                    \"height\": h,\n",
    "                    \"id\": img_id,\n",
    "                    \"file_name\": file_name\n",
    "                }\n",
    "            )\n",
    "            \n",
    "            for bb in bbox_aug:\n",
    "                x1, x2, y1, y2 = (int(bb.x1), int(bb.x2), int(bb.y1), int(bb.y2))\n",
    "                aug_ann['annotations'].append(\n",
    "                    {\n",
    "                        \"id\": ann_id,\n",
    "                        \"image_id\": img_id,\n",
    "                        \"category_id\": bb.label,\n",
    "                        \"segmentation\": [],\n",
    "                        \"bbox\": [\n",
    "                            x1,\n",
    "                            y1,\n",
    "                            x2 - x1,\n",
    "                            y2 - y1\n",
    "                        ],\n",
    "                        \"ignore\": 0,\n",
    "                        \"iscrowd\": 0,\n",
    "                        \"area\": (x2 - x1) * (y2 - y1)\n",
    "                    }\n",
    "                )\n",
    "                ann_id += 1\n",
    "            \n",
    "            img_id += 1\n",
    "        progress.update(1)\n",
    "        \n",
    "\n",
    "\n",
    "with open(f\"corrosion/{ds_type}/{ds_type}_aug.json\", 'w') as f:\n",
    "    json.dump(aug_ann, f)"
   ]
  }
 ],
 "metadata": {
  "kernelspec": {
   "display_name": "Python 3.8.13 ('augmentation')",
   "language": "python",
   "name": "python3"
  },
  "language_info": {
   "codemirror_mode": {
    "name": "ipython",
    "version": 3
   },
   "file_extension": ".py",
   "mimetype": "text/x-python",
   "name": "python",
   "nbconvert_exporter": "python",
   "pygments_lexer": "ipython3",
   "version": "3.8.13"
  },
  "orig_nbformat": 4,
  "vscode": {
   "interpreter": {
    "hash": "86f8c54e7567ca6f3f8366d158aaccdd554c837db43256bcb73167ec300f720c"
   }
  }
 },
 "nbformat": 4,
 "nbformat_minor": 2
}
